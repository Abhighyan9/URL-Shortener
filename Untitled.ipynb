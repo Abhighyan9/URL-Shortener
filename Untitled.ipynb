{
 "cells": [
  {
   "cell_type": "code",
   "execution_count": null,
   "metadata": {},
   "outputs": [],
   "source": [
    "from pyshorteners import Shortener \n",
    "ACCESS_TOKEN = 'YOUR TOKEN'\n",
    "long_url = input()\n",
    "url_shortener = Shortener('Bitly', bitly_token = ACCESS_TOKEN) \n",
    "print (\"Short URL is {}\".format(url_shortener.short(long_url)))\n",
    "short_url = input()\n",
    "url_expander = Shortener('Bitly', bitly_token = ACCESS_TOKEN)\n",
    "print (\"Long URL is {}\".format(url_expander.expand(short_url)))"
   ]
  }
 ],
 "metadata": {
  "language_info": {
   "name": "python"
  },
  "orig_nbformat": 4
 },
 "nbformat": 4,
 "nbformat_minor": 2
}
